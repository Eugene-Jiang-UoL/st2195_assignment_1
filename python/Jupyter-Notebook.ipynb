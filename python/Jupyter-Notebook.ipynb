{
 "cells": [
  {
   "cell_type": "code",
   "execution_count": null,
   "id": "ddd9bcfd-5080-47d5-b321-d31fabe0dba0",
   "metadata": {},
   "outputs": [],
   "source": [
    "## Assignment 1\n",
    "This is the Jupyter Notebook for Assignment 1 of Programming for Statistics"
   ]
  },
  {
   "cell_type": "code",
   "execution_count": null,
   "id": "89a5e7e0-2600-4300-9356-497e3fde1778",
   "metadata": {},
   "outputs": [],
   "source": [
    "*This is another introductory comment*"
   ]
  },
  {
   "cell_type": "code",
   "execution_count": 1,
   "id": "e0442ebb-e3fe-4219-884a-76d0cc97ebc7",
   "metadata": {},
   "outputs": [
    {
     "name": "stdout",
     "output_type": "stream",
     "text": [
      "1 2 3 4 5 6 7 8 9 10\n"
     ]
    }
   ],
   "source": [
    "print(str(1), str(2), str(3), str(4), str(5), str(6), str(7), str(8), str(9), str(10))"
   ]
  }
 ],
 "metadata": {
  "kernelspec": {
   "display_name": "Python 3 (ipykernel)",
   "language": "python",
   "name": "python3"
  },
  "language_info": {
   "codemirror_mode": {
    "name": "ipython",
    "version": 3
   },
   "file_extension": ".py",
   "mimetype": "text/x-python",
   "name": "python",
   "nbconvert_exporter": "python",
   "pygments_lexer": "ipython3",
   "version": "3.12.7"
  }
 },
 "nbformat": 4,
 "nbformat_minor": 5
}
